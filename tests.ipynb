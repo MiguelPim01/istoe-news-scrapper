{
 "cells": [
  {
   "cell_type": "markdown",
   "metadata": {},
   "source": [
    "# IstoE news scrapper"
   ]
  },
  {
   "cell_type": "markdown",
   "metadata": {},
   "source": [
    "## Librarys"
   ]
  },
  {
   "cell_type": "code",
   "execution_count": 3,
   "metadata": {},
   "outputs": [],
   "source": [
    "import os\n",
    "from datetime import datetime\n",
    "from time import sleep\n",
    "from tqdm import tqdm\n",
    "import re\n",
    "\n",
    "from selenium import webdriver\n",
    "from selenium.webdriver.common.by import By"
   ]
  },
  {
   "cell_type": "markdown",
   "metadata": {},
   "source": [
    "## Defining some variables and functions"
   ]
  },
  {
   "cell_type": "code",
   "execution_count": 4,
   "metadata": {},
   "outputs": [],
   "source": [
    "ARCHIVE_MONTHS = {  \"JAN\" : 1, \"FEB\" : 2, \"MAR\" : 3, \"APR\" : 4, \"MAY\" : 5,\n",
    "                \"JUN\" : 6, \"JUL\" : 7, \"AUG\" : 8, \"SEP\" : 9, \"OCT\" : 10, \n",
    "                \"NOV\": 11, \"DEC\" : 12 }\n",
    "\n",
    "ARCHIVE_MONTHS_PORTUGUESE = {   'JAN' : 'JANEIRO', 'FEB' : 'FEVEREIRO', 'MAR' : 'MARÇO', 'APR' : 'ABRIL',\n",
    "                            'MAY' : 'MAIO', 'JUN' : 'JUNHO', 'JUL' : 'JULHO', 'AUG' : 'AGOSTO', 'SEP' : 'SETEMBRO',\n",
    "                            'OCT' : 'OUTUBRO', 'NOV' : 'NOVEMBRO', 'DEC' : 'DEZEMBRO'}"
   ]
  },
  {
   "cell_type": "markdown",
   "metadata": {},
   "source": [
    "## Getting links from internet archives"
   ]
  },
  {
   "cell_type": "code",
   "execution_count": 5,
   "metadata": {},
   "outputs": [],
   "source": [
    "start_date = datetime.strptime(\"01/09/2024\", \"%d/%m/%Y\")\n",
    "end_date = datetime.strptime(\"01/12/2024\", \"%d/%m/%Y\")"
   ]
  },
  {
   "cell_type": "code",
   "execution_count": 6,
   "metadata": {},
   "outputs": [],
   "source": [
    "options = webdriver.ChromeOptions()\n",
    "\n",
    "options.add_argument(\"--no-sandbox\")\n",
    "options.add_argument(\"--log-level=3\")\n",
    "# options.add_argument(\"--start-maximized\")\n",
    "options.add_argument(\"--headless\")\n",
    "\n",
    "options.page_load_strategy = \"eager\""
   ]
  },
  {
   "cell_type": "code",
   "execution_count": 7,
   "metadata": {},
   "outputs": [],
   "source": [
    "# driver = webdriver.Chrome(options=options)\n",
    "\n",
    "# current_year = start_date.year\n",
    "# months_links = []\n",
    "# month_checker = lambda date : date >= start_date and date <= end_date\n",
    "\n",
    "# while current_year <= end_date.year:\n",
    "#     url = f\"https://web.archive.org/web/{current_year}0101000000*/www.istoe.com.br\"\n",
    "#     driver.get(url)\n",
    "    \n",
    "#     sleep(3)\n",
    "    \n",
    "#     while True:\n",
    "#         try:\n",
    "#             all_months = driver.find_elements(By.CLASS_NAME, \"month\")\n",
    "#             break\n",
    "#         except:\n",
    "#             pass\n",
    "    \n",
    "#     print(\"Finding all month in the page...\\n\")\n",
    "#     selected_months = []\n",
    "#     for i in range(len(all_months)):\n",
    "#         all_months = driver.find_elements(By.CLASS_NAME, \"month\")\n",
    "#         month = all_months[i]\n",
    "        \n",
    "#         x = month.location[\"x\"]\n",
    "#         y = month.location[\"y\"]\n",
    "#         driver.execute_script(\"window.scrollTo(%s,%s);\" % (x, y))\n",
    "#         sleep(1)\n",
    "        \n",
    "#         while True:\n",
    "#             try:\n",
    "#                 month_title_pt = month.find_element(By.CLASS_NAME, \"month-title\").text\n",
    "                \n",
    "#                 if month_checker(datetime(current_year, ARCHIVE_MONTHS[month_title_pt], 1)) == True:\n",
    "#                     calendar_day_list = month.find_elements(By.CLASS_NAME, \"calendar-day\")\n",
    "                    \n",
    "#                     href_list = []\n",
    "#                     for day_number, calendar_day in enumerate(calendar_day_list, start= 1):\n",
    "#                         print(f\"month: {month_title_pt}, day : {day_number}\")\n",
    "                        \n",
    "#                         href_list.append(calendar_day.find_element(By.TAG_NAME, \"a\").get_attribute(\"href\"))\n",
    "                \n",
    "#                     months_links.append((month_title_pt, href_list))\n",
    "#                 break\n",
    "#             except:\n",
    "#                 pass\n",
    "    \n",
    "#     current_year += 1\n",
    "\n",
    "# driver.quit()"
   ]
  },
  {
   "cell_type": "code",
   "execution_count": 8,
   "metadata": {},
   "outputs": [],
   "source": [
    "# for month, links in months_links:\n",
    "    \n",
    "#     os.makedirs(\"data\", exist_ok=True)\n",
    "#     os.makedirs(\"data/archive-links\", exist_ok=True)\n",
    "    \n",
    "#     with open(f\"data/archive-links/links-{month}.txt\", \"w\") as file:\n",
    "#         file.write(\"\\n\".join(links))"
   ]
  },
  {
   "cell_type": "markdown",
   "metadata": {},
   "source": [
    "## Getting istoE links"
   ]
  },
  {
   "cell_type": "code",
   "execution_count": 9,
   "metadata": {},
   "outputs": [],
   "source": [
    "# path_to_archive_links = os.path.join(\"data\", \"archive-links\")\n",
    "# _files_list = os.listdir(path_to_archive_links)\n",
    "\n",
    "# istoe_links_dir = os.path.join(\"data\", \"istoe-links\")\n",
    "# os.makedirs(istoe_links_dir, exist_ok=True)\n",
    "\n",
    "# log_dir = os.path.join(\"data\", \"logs\")\n",
    "# os.makedirs(log_dir, exist_ok=True)\n",
    "    \n",
    "# for file in _files_list:\n",
    "#     month_title = file.split(\".\")[0].split(\"-\")[1]\n",
    "#     with open(os.path.join(path_to_archive_links, file)) as f:\n",
    "#         lines = f.readlines()\n",
    "    \n",
    "#     __all_months_links = []\n",
    "#     _logs = []\n",
    "#     with tqdm(total=len(lines), desc=f\"Links {month_title}: \", unit=\"l\") as pb_links:\n",
    "#         for i, link in enumerate(lines):\n",
    "#             driver = webdriver.Chrome(options=options)\n",
    "            \n",
    "#             try:\n",
    "#                 driver.get(link)\n",
    "#             except Exception:\n",
    "#                 _logs.append(f\"Problema ao ler link {link.strip('\\n')}\")\n",
    "            \n",
    "#             sleep(3)\n",
    "            \n",
    "#             while True:\n",
    "#                 try:\n",
    "#                     noticias = driver.find_elements(By.TAG_NAME, 'article')\n",
    "#                     break\n",
    "#                 except:\n",
    "#                     pass\n",
    "            \n",
    "            \n",
    "#             for i, noticia in enumerate(noticias):\n",
    "#                 try:\n",
    "#                     __all_months_links.append(noticia.find_element(By.TAG_NAME, \"a\").get_attribute(\"href\"))\n",
    "#                 except Exception:\n",
    "#                     pass\n",
    "            \n",
    "#             pb_links.update()\n",
    "            \n",
    "#             driver.quit()\n",
    "        \n",
    "#     with open(os.path.join(istoe_links_dir, file), \"w\") as f, open(os.path.join(log_dir, \"istoe-links-log.txt\"), \"w\") as log:\n",
    "#         f.write(\"\\n\".join(__all_months_links))\n",
    "#         log.write(_logs)"
   ]
  },
  {
   "cell_type": "markdown",
   "metadata": {},
   "source": [
    "## Getting texts"
   ]
  },
  {
   "cell_type": "code",
   "execution_count": 10,
   "metadata": {},
   "outputs": [],
   "source": [
    "# istoe_links_dir = os.path.join(\"data\", \"istoe-links\")\n",
    "# news_dir = os.path.join(\"data\", \"news\")\n",
    "# log_dir = os.path.join(\"data\", \"logs\")\n",
    "\n",
    "# os.makedirs(news_dir, exist_ok=True)\n",
    "# os.makedirs(log_dir, exist_ok=True)\n",
    "\n",
    "# _files_list = os.listdir(istoe_links_dir)\n",
    "\n",
    "# _all_texts = []\n",
    "\n",
    "# for file in _files_list:\n",
    "#     month_title = file.split(\".\")[0].split(\"-\")[1]\n",
    "#     if month_title in [\"DEC\"]:\n",
    "#         continue\n",
    "#     with open(os.path.join(istoe_links_dir, file)) as f:\n",
    "#         lines = f.readlines()\n",
    "    \n",
    "#     _logs = []\n",
    "#     with tqdm(total=len(lines), desc=f\"Links {month_title}: \", unit=\"l\") as pb_links:\n",
    "#         for i, link in enumerate(lines):\n",
    "#             driver = webdriver.Chrome(options=options)\n",
    "            \n",
    "#             try:\n",
    "#                 driver.get(link)\n",
    "#             except Exception:\n",
    "#                 _logs.append(f\"Problema ao ler link {link.strip('\\n')}\")\n",
    "            \n",
    "#             sleep(3)\n",
    "            \n",
    "#             n_tries = 20\n",
    "#             i = 0\n",
    "#             while i < n_tries:\n",
    "#                 try:\n",
    "#                     textos = driver.find_elements(By.TAG_NAME, 'p')\n",
    "#                     break\n",
    "#                 except Exception:\n",
    "#                     print(\"Tentei uma vez pegar os textos...\")\n",
    "#                     i += 1\n",
    "#             if i >= n_tries:\n",
    "#                 _logs.append(f\"{link.strip('\\n')} demorou muito para carregar\")\n",
    "#                 pb_links.update()\n",
    "#                 driver.quit()\n",
    "#                 continue\n",
    "            \n",
    "#             for t in textos:\n",
    "#                 try:\n",
    "#                     _all_texts.append(t.text)\n",
    "#                 except Exception:\n",
    "#                     pass\n",
    "\n",
    "#             pb_links.update()\n",
    "#             driver.quit()\n",
    "        \n",
    "#         with open(os.path.join(news_dir, file), \"w\") as f, open(os.path.join(log_dir, f\"news-log-{month_title}.txt\"), \"w\") as log:\n",
    "#             f.write(\"\\n\".join(_all_texts))\n",
    "#             log.write(\"\\n\".join(_logs))"
   ]
  },
  {
   "cell_type": "markdown",
   "metadata": {},
   "source": [
    "## Cleaning texts"
   ]
  },
  {
   "cell_type": "code",
   "execution_count": 11,
   "metadata": {},
   "outputs": [],
   "source": [
    "def is_unnecessary_line(row):\n",
    "    return (row == \"A ISTOÉ PUBLICAÇÕES LTDA é um portal digital independente e sem vinculação editorial e societária com a EDITORA TRES COMÉRCIO DE PUBLICACÕES LTDA (recuperação judicial). Informamos também que não realizamos cobranças e que também não oferecemos cancelamento do contrato de assinatura da revista impressa de nome ISTOÉ, tampouco autorizamos terceiros a fazê-lo, nos responsabilizamos apenas pelo conteúdo digital “https://istoe.com.br” e seus respectivos sites.\"\n",
    "            or row == \"A ISTOE GERAL é uma editoria independente sem vinculação editorial e societária com A ISTOÉ PUBLICAÇÕES LTDA.\"\n",
    "            or row == \"Em\"\n",
    "            or row == \"Atualizado em\"\n",
    "            or row == \"Brasil\"\n",
    "            or row == \"Política de Privacidade\"\n",
    "            or row == \"Newsletter\"\n",
    "            or row == \"Da Redação\"\n",
    "            or row == \"Notícias\"\n",
    "            or row == \"Opinião\"\n",
    "            or row == \"Mundo\"\n",
    "            or row == \"Esportes\"\n",
    "            or bool(re.fullmatch(r\"\\d{2}/\\d{2}/\\d{2,4} - \\d{2}h\\d{2}min\", row)))"
   ]
  },
  {
   "cell_type": "code",
   "execution_count": 12,
   "metadata": {},
   "outputs": [],
   "source": [
    "final_news_dir = os.path.join(\"data\", \"final-news\")\n",
    "news_dir = os.path.join(\"data\", \"news\")\n",
    "\n",
    "files = os.listdir(news_dir)\n",
    "\n",
    "os.makedirs(final_news_dir, exist_ok=True)\n",
    "\n",
    "new_lines = []\n",
    "\n",
    "for file in files:\n",
    "    month_title = file.split(\".\")[0].split(\"-\")[1]\n",
    "    \n",
    "    with open(os.path.join(news_dir, file), 'r') as f:\n",
    "        lines = f.readlines()\n",
    "    \n",
    "    for line in lines:\n",
    "        if is_unnecessary_line(line.strip()):\n",
    "            if line.strip() == \"Em\":\n",
    "                new_lines.append('\\n')\n",
    "            continue\n",
    "        \n",
    "        l = line.strip()\n",
    "        l = l.lower()\n",
    "        l = re.sub(r'[^a-zA-Z0-9áàâãéêíóôõúçüêè ]', ' ', l)\n",
    "        l = l.strip()\n",
    "        \n",
    "        new_lines.append(l)\n",
    "    \n",
    "    with open(os.path.join(final_news_dir, f\"fnews-{month_title}.txt\"), 'w') as f:\n",
    "        f.write('\\n'.join(new_lines))\n",
    "    \n",
    "    new_lines.clear()"
   ]
  }
 ],
 "metadata": {
  "kernelspec": {
   "display_name": "istoe-scrapper",
   "language": "python",
   "name": "python3"
  },
  "language_info": {
   "codemirror_mode": {
    "name": "ipython",
    "version": 3
   },
   "file_extension": ".py",
   "mimetype": "text/x-python",
   "name": "python",
   "nbconvert_exporter": "python",
   "pygments_lexer": "ipython3",
   "version": "3.13.2"
  }
 },
 "nbformat": 4,
 "nbformat_minor": 2
}
